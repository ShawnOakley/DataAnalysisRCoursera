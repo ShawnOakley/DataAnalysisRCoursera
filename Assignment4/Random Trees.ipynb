{
 "metadata": {
  "name": ""
 },
 "nbformat": 3,
 "nbformat_minor": 0,
 "worksheets": [
  {
   "cells": [
    {
     "cell_type": "code",
     "collapsed": false,
     "input": [
      "from sklearn.datasets import load_files\n",
      "from sklearn.feature_extraction.text import CountVectorizer\n",
      "\n",
      "from sklearn.datasets import fetch_20newsgroups\n",
      "\n",
      "categories = [\n",
      "    'alt.atheism',\n",
      "    'talk.religion.misc',\n",
      "    'comp.graphics',\n",
      "    'sci.space',\n",
      "]\n",
      "\n",
      "# Load the text data\n",
      "print \"Loading data...\"\n",
      "twenty_train_subset = fetch_20newsgroups(subset='train', categories=categories)\n"
     ],
     "language": "python",
     "metadata": {},
     "outputs": [
      {
       "output_type": "stream",
       "stream": "stdout",
       "text": [
        "Loading data...\n"
       ]
      },
      {
       "output_type": "stream",
       "stream": "stderr",
       "text": [
        "No handlers could be found for logger \"sklearn.datasets.twenty_newsgroups\"\n"
       ]
      }
     ],
     "prompt_number": 1
    },
    {
     "cell_type": "code",
     "collapsed": false,
     "input": [
      "print \"Transforming features...\"\n",
      "# Turn the text documents into vectors of word frequencies\n",
      "# vectorizer = CountVectorizer()\n",
      "# X_train = vectorizer.fit_transform(twenty_train_subset.data)\n",
      "\n",
      "# #TF-IDF\n",
      "from sklearn.feature_extraction.text import TfidfVectorizer\n",
      "\n",
      "vectorizer = TfidfVectorizer()\n",
      "X_train = vectorizer.fit_transform(twenty_train_subset.data)"
     ],
     "language": "python",
     "metadata": {},
     "outputs": [
      {
       "output_type": "stream",
       "stream": "stdout",
       "text": [
        "Transforming features...\n"
       ]
      }
     ],
     "prompt_number": 2
    },
    {
     "cell_type": "code",
     "collapsed": false,
     "input": [
      "#TFIDF advanced\n",
      "from sklearn.feature_extraction.text import TfidfVectorizer\n",
      "\n",
      "# vectorizer = TfidfVectorizer(stop_words='english', lowercase=True, ngram_range=(1,2))\n",
      "# X_train = vectorizer.fit_transform(twenty_train_subset.data)\n",
      "\n",
      "from sklearn.cross_validation import cross_val_score\n",
      "from sklearn.tree import DecisionTreeClassifier\n",
      "\n",
      "vectorizer = TfidfVectorizer(stop_words='english', lowercase=True, ngram_range=(1,2), min_df=1)\n",
      "X_train = vectorizer.fit_transform(twenty_train_subset.data)\n"
     ],
     "language": "python",
     "metadata": {},
     "outputs": [],
     "prompt_number": 3
    },
    {
     "cell_type": "code",
     "collapsed": false,
     "input": [],
     "language": "python",
     "metadata": {},
     "outputs": []
    }
   ],
   "metadata": {}
  }
 ]
}